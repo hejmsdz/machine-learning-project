{
 "cells": [
  {
   "cell_type": "markdown",
   "metadata": {},
   "source": [
    "# Klasyfikacja cen telefonów komórkowych\n",
    "Mikołaj Rozwadowski, 127205"
   ]
  },
  {
   "cell_type": "markdown",
   "metadata": {},
   "source": [
    "Wybrałem do analizy zbiór danych [Mobile Price Classification](https://www.kaggle.com/iabhishekofficial/mobile-price-classification), zawierający dane na temat różnych modeli telefonów komórkowych, ich specyfikacji technicznej i przedziału cenowego. Etykiety są dyskretne: od 0 (bardzo tanie) do 3 (bardzo drogie), pozostałe atrybuty przyjmują wartości liczbowe lub binarne.\n",
    "Celem zadania jest zbudowanie klasyfikatora przewidującego, do jakiego przedziału cenowego będzie należał telefon o danych parametrach.\n",
    "\n",
    "Zbiór został podzielony już przez twórców na część uczącą i testową – odpowiednio po 2000 i 1000 przykładów. Rozpoczynam od wczytania zbioru treningowego do pamięci."
   ]
  },
  {
   "cell_type": "code",
   "execution_count": 1,
   "metadata": {
    "scrolled": false
   },
   "outputs": [
    {
     "name": "stdout",
     "output_type": "stream",
     "text": [
      "   battery_power  blue  clock_speed  dual_sim  fc  four_g  int_memory  m_dep  \\\n",
      "0            842     0          2.2         0   1       0           7    0.6   \n",
      "1           1021     1          0.5         1   0       1          53    0.7   \n",
      "2            563     1          0.5         1   2       1          41    0.9   \n",
      "3            615     1          2.5         0   0       0          10    0.8   \n",
      "4           1821     1          1.2         0  13       1          44    0.6   \n",
      "\n",
      "   mobile_wt  n_cores  ...  px_height  px_width   ram  sc_h  sc_w  talk_time  \\\n",
      "0        188        2  ...         20       756  2549     9     7         19   \n",
      "1        136        3  ...        905      1988  2631    17     3          7   \n",
      "2        145        5  ...       1263      1716  2603    11     2          9   \n",
      "3        131        6  ...       1216      1786  2769    16     8         11   \n",
      "4        141        2  ...       1208      1212  1411     8     2         15   \n",
      "\n",
      "   three_g  touch_screen  wifi  price_range  \n",
      "0        0             0     1            1  \n",
      "1        1             1     0            2  \n",
      "2        1             1     0            2  \n",
      "3        1             0     0            2  \n",
      "4        1             1     0            1  \n",
      "\n",
      "[5 rows x 21 columns]\n"
     ]
    }
   ],
   "source": [
    "import pandas\n",
    "\n",
    "train_file = 'data/train.csv'\n",
    "df = pandas.read_csv(train_file)\n",
    "print(df.head())"
   ]
  },
  {
   "cell_type": "markdown",
   "metadata": {},
   "source": [
    "Na początek wyświetlę histogramy kilku cech ze specyfikacji technicznej:"
   ]
  },
  {
   "cell_type": "code",
   "execution_count": 7,
   "metadata": {},
   "outputs": [
    {
     "data": {
      "image/png": "[encoded data removed]",
      "text/plain": [
       "<Figure size 432x288 with 4 Axes>"
      ]
     },
     "metadata": {
      "needs_background": "light"
     },
     "output_type": "display_data"
    }
   ],
   "source": [
    "import matplotlib.pyplot as plt\n",
    "\n",
    "plt.subplot(2, 2, 1)\n",
    "plt.title('Pojemność baterii')\n",
    "plt.hist(df.battery_power)\n",
    "\n",
    "plt.subplot(2, 2, 2)\n",
    "plt.title('Taktowanie procesora')\n",
    "plt.hist(df.clock_speed)\n",
    "\n",
    "plt.subplot(2, 2, 3)\n",
    "plt.title('Rozdzielczość aparatu')\n",
    "plt.hist(df.pc)\n",
    "\n",
    "plt.subplot(2, 2, 4)\n",
    "plt.title('Waga')\n",
    "plt.hist(df.mobile_wt)\n",
    "\n",
    "plt.show()"
   ]
  },
  {
   "cell_type": "code",
   "execution_count": null,
   "metadata": {},
   "outputs": [],
   "source": []
  }
 ],
 "metadata": {
  "kernelspec": {
   "display_name": "venv",
   "language": "python",
   "name": "venv"
  },
  "language_info": {
   "codemirror_mode": {
    "name": "ipython",
    "version": 3
   },
   "file_extension": ".py",
   "mimetype": "text/x-python",
   "name": "python",
   "nbconvert_exporter": "python",
   "pygments_lexer": "ipython3",
   "version": "3.7.3"
  }
 },
 "nbformat": 4,
 "nbformat_minor": 2
}
