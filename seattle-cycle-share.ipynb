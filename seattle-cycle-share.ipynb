{
 "cells": [
  {
   "cell_type": "markdown",
   "metadata": {},
   "source": [
    "# Analiza danych o wypożyczeniach rowerów miejskich w Seattle\n",
    "Mikołaj Rozwadowski, 127205"
   ]
  },
  {
   "cell_type": "code",
   "execution_count": 2,
   "metadata": {},
   "outputs": [
    {
     "name": "stdout",
     "output_type": "stream",
     "text": [
      "   trip_id               starttime                stoptime    bikeid  \\\n",
      "0      431  10/13/2014 10:31:00 AM  10/13/2014 10:48:00 AM  SEA00298   \n",
      "1      432  10/13/2014 10:32:00 AM  10/13/2014 10:48:00 AM  SEA00195   \n",
      "2      433  10/13/2014 10:33:00 AM  10/13/2014 10:48:00 AM  SEA00486   \n",
      "3      434  10/13/2014 10:34:00 AM  10/13/2014 10:48:00 AM  SEA00333   \n",
      "4      435  10/13/2014 10:34:00 AM  10/13/2014 10:49:00 AM  SEA00202   \n",
      "\n",
      "   tripduration    from_station_name  \\\n",
      "0       985.935  2nd Ave & Spring St   \n",
      "1       926.375  2nd Ave & Spring St   \n",
      "2       883.831  2nd Ave & Spring St   \n",
      "3       865.937  2nd Ave & Spring St   \n",
      "4       923.923  2nd Ave & Spring St   \n",
      "\n",
      "                                     to_station_name from_station_id  \\\n",
      "0  Occidental Park / Occidental Ave S & S Washing...          CBD-06   \n",
      "1  Occidental Park / Occidental Ave S & S Washing...          CBD-06   \n",
      "2  Occidental Park / Occidental Ave S & S Washing...          CBD-06   \n",
      "3  Occidental Park / Occidental Ave S & S Washing...          CBD-06   \n",
      "4  Occidental Park / Occidental Ave S & S Washing...          CBD-06   \n",
      "\n",
      "  to_station_id usertype  gender  birthyear  \n",
      "0         PS-04   Member    Male     1960.0  \n",
      "1         PS-04   Member    Male     1970.0  \n",
      "2         PS-04   Member  Female     1988.0  \n",
      "3         PS-04   Member  Female     1977.0  \n",
      "4         PS-04   Member    Male     1971.0  \n"
     ]
    }
   ],
   "source": [
    "import pandas\n",
    "\n",
    "filename = 'seattle-cycle-share.csv'\n",
    "df = pandas.read_csv(filename)\n",
    "print(df.head())"
   ]
  },
  {
   "cell_type": "code",
   "execution_count": 27,
   "metadata": {},
   "outputs": [
    {
     "data": {
      "image/png": "[encoded data removed]",
      "text/plain": [
       "<Figure size 432x288 with 1 Axes>"
      ]
     },
     "metadata": {
      "needs_background": "light"
     },
     "output_type": "display_data"
    }
   ],
   "source": [
    "import matplotlib.pyplot as plt\n",
    "\n",
    "durations = df['tripduration'] / 60\n",
    "\n",
    "members_only = df['usertype'] == 'Member'\n",
    "under_1_hour = durations < 60\n",
    "\n",
    "plt.hist(durations[under_1_hour], density=True)\n",
    "plt.show()"
   ]
  }
 ],
 "metadata": {
  "kernelspec": {
   "display_name": ".venv",
   "language": "python",
   "name": ".venv"
  },
  "language_info": {
   "codemirror_mode": {
    "name": "ipython",
    "version": 3
   },
   "file_extension": ".py",
   "mimetype": "text/x-python",
   "name": "python",
   "nbconvert_exporter": "python",
   "pygments_lexer": "ipython3",
   "version": "3.6.7"
  }
 },
 "nbformat": 4,
 "nbformat_minor": 2
}
